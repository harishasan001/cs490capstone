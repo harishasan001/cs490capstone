{
 "cells": [
  {
   "cell_type": "code",
   "execution_count": 27,
   "metadata": {},
   "outputs": [],
   "source": [
    "import pandas as pd\n",
    "import numpy as np"
   ]
  },
  {
   "cell_type": "code",
   "execution_count": 26,
   "metadata": {},
   "outputs": [
    {
     "name": "stdout",
     "output_type": "stream",
     "text": [
      "         Unnamed: 0  arrest_key arrest_date  \\\n",
      "0                 0   192799737  2019-01-26   \n",
      "1                 1   193260691  2019-02-06   \n",
      "2                 2   149117452  2016-01-06   \n",
      "3                 3   190049060  2018-11-15   \n",
      "4                 4    24288194  2006-09-13   \n",
      "...             ...         ...         ...   \n",
      "3881984     3881984    24592084  2006-10-01   \n",
      "3881985     3881985    24028282  2006-08-25   \n",
      "3881986     3881986    24036787  2006-08-26   \n",
      "3881987     3881987    24028407  2006-08-25   \n",
      "3881988     3881988    24321597  2006-09-14   \n",
      "\n",
      "                                            pd_desc  \\\n",
      "0                                      SEXUAL ABUSE   \n",
      "1           CRIMINAL SALE OF A CONTROLLED SUBSTANCE   \n",
      "2                                            RAPE 3   \n",
      "3                                            RAPE 1   \n",
      "4                              TRESPASS 3, CRIMINAL   \n",
      "...                                             ...   \n",
      "3881984  LARCENY,GRAND FROM OPEN AREAS,UNCLASSIFIED   \n",
      "3881985                       MARIJUANA, SALE 4 & 5   \n",
      "3881986    PUBLIC ADMINISTATION,UNCLASS MISDEMEAN 4   \n",
      "3881987            TRAFFIC,UNCLASSIFIED MISDEMEANOR   \n",
      "3881988          CONTROLLED SUBSTANCE, POSSESSION 7   \n",
      "\n",
      "                                      ofns_desc    law_code law_cat_cd  \\\n",
      "0                                    SEX CRIMES  PL 1306503          F   \n",
      "1                CONTROLLED SUBSTANCES OFFENSES  PL 2203400          F   \n",
      "2                                          RAPE  PL 1302503          F   \n",
      "3                                          RAPE  PL 1303501          F   \n",
      "4                             CRIMINAL TRESPASS  PL 140100E          M   \n",
      "...                                         ...         ...        ...   \n",
      "3881984                           GRAND LARCENY  PL 1553001          F   \n",
      "3881985                         DANGEROUS DRUGS  PL 2214000          M   \n",
      "3881986  OFFENSES AGAINST PUBLIC ADMINISTRATION  PL 1950500          M   \n",
      "3881987                VEHICLE AND TRAFFIC LAWS  VTL05110E2          F   \n",
      "3881988                         DANGEROUS DRUGS  PL 2200300          M   \n",
      "\n",
      "        age_group perp_sex perp_race   latitude  longitude arrest_boro  \\\n",
      "0           45-64        M     BLACK  40.800694 -73.941109           M   \n",
      "1           25-44        M   UNKNOWN  40.757839 -73.991212           M   \n",
      "2           25-44        M     BLACK  40.648650 -73.950336           K   \n",
      "3           25-44        M     BLACK  40.674583 -73.930222           K   \n",
      "4           45-64        M     BLACK  40.671254 -73.926714           K   \n",
      "...           ...      ...       ...        ...        ...         ...   \n",
      "3881984       <18        M     BLACK  40.676655 -73.916466           K   \n",
      "3881985       <18        M     WHITE  40.625264 -73.998697           K   \n",
      "3881986     18-24        M     BLACK  40.801304 -73.936106           M   \n",
      "3881987     25-44        M     BLACK  40.675505 -73.899692           K   \n",
      "3881988     45-64        M     BLACK  40.804428 -73.955370           M   \n",
      "\n",
      "         arrest_precinct  jurisdiction_code  :@computed_region_f5dn_yrer  \\\n",
      "0                     25                0.0                          7.0   \n",
      "1                     14                0.0                         12.0   \n",
      "2                     67                0.0                         61.0   \n",
      "3                     77                0.0                         16.0   \n",
      "4                     77                2.0                         16.0   \n",
      "...                  ...                ...                          ...   \n",
      "3881984               73                0.0                         69.0   \n",
      "3881985               62                0.0                         10.0   \n",
      "3881986               25                0.0                          7.0   \n",
      "3881987               75                0.0                         45.0   \n",
      "3881988               28                2.0                         18.0   \n",
      "\n",
      "         :@computed_region_yeji_bk3q  :@computed_region_92fq_4b7q  \\\n",
      "0                                4.0                         36.0   \n",
      "1                                4.0                         10.0   \n",
      "2                                2.0                         11.0   \n",
      "3                                2.0                         49.0   \n",
      "4                                2.0                         49.0   \n",
      "...                              ...                          ...   \n",
      "3881984                          2.0                         17.0   \n",
      "3881985                          2.0                          7.0   \n",
      "3881986                          4.0                         35.0   \n",
      "3881987                          2.0                         37.0   \n",
      "3881988                          4.0                         36.0   \n",
      "\n",
      "         :@computed_region_sbqj_enih  \n",
      "0                               16.0  \n",
      "1                                8.0  \n",
      "2                               40.0  \n",
      "3                               49.0  \n",
      "4                               49.0  \n",
      "...                              ...  \n",
      "3881984                         52.0  \n",
      "3881985                         41.0  \n",
      "3881986                         16.0  \n",
      "3881987                         47.0  \n",
      "3881988                         18.0  \n",
      "\n",
      "[3881989 rows x 19 columns]\n"
     ]
    }
   ],
   "source": [
    "crime = pd.read_csv(\"NYC_Crime.csv\")\n",
    "print(crime)"
   ]
  },
  {
   "cell_type": "code",
   "execution_count": 7,
   "metadata": {},
   "outputs": [],
   "source": [
    "# Rename the column\n",
    "crime = crime.rename(columns={'arrest_boro': 'borough'})\n",
    "\n",
    "# Remap the values\n",
    "arrest_boro_map = {'K': 'Brooklyn', 'M': 'Manhattan', 'Q': 'Queens', 'S': 'Staten Island', 'B': 'Bronx'}\n",
    "crime['borough'] = crime['borough'].map(arrest_boro_map)"
   ]
  },
  {
   "cell_type": "code",
   "execution_count": 8,
   "metadata": {},
   "outputs": [
    {
     "data": {
      "text/plain": [
       "array(['SEX CRIMES', 'CONTROLLED SUBSTANCES OFFENSES', 'RAPE',\n",
       "       'CRIMINAL TRESPASS', 'ASSAULT 3 & RELATED OFFENSES', 'THEFT',\n",
       "       'FELONY ASSAULT', 'PROSTITUTION & RELATED OFFENSES',\n",
       "       'DANGEROUS WEAPONS', 'MISCELLANEOUS PENAL LAW', 'DANGEROUS DRUGS',\n",
       "       'FRAUDS', 'POSSESSION OF STOLEN PROPERTY 5', 'FORGERY', 'BURGLARY',\n",
       "       'ROBBERY', 'FORCIBLE TOUCHING', 'OFFENSES INVOLVING FRAUD',\n",
       "       'TERRORISM', 'ARSON', 'LARCENY', 'SEX OFFENSES', 'THEFT-FRAUD',\n",
       "       'OTHER STATE LAWS', 'OFF. AGNST PUB ORD SENSBLTY & RGHTS TO PRIV',\n",
       "       'F.C.A. P.I.N.O.S.', 'ASSAULT', 'OFFENSES AGAINST THE PERSON',\n",
       "       'PROSTITUTION OFFENSES', 'FIREARMS AND OTHER DANGEROUS WEAPONS',\n",
       "       'OFFENSES AGAINST PUBLIC ADMINISTRATION',\n",
       "       'VEHICLE AND TRAFFIC LAWS', 'OTHER OFFENSES RELATED TO THEFT',\n",
       "       'DISORDERLY CONDUCT', 'GRAND LARCENY', 'PETIT LARCENY',\n",
       "       'OTHER TRAFFIC INFRACTION', \"BURGLAR'S TOOLS\",\n",
       "       'OTHER STATE LAWS (NON PENAL LAW)',\n",
       "       'INTOXICATED & IMPAIRED DRIVING', 'CRIMINAL MISCHIEF & RELATED OF',\n",
       "       'OTHER OFFENSES RELATED TO THEF', 'POSSESSION OF STOLEN PROPERTY',\n",
       "       'OFF. AGNST PUB ORD SENSBLTY &', 'OFFENSES AGAINST PUBLIC ADMINI',\n",
       "       'NYS LAWS-UNCLASSIFIED FELONY', 'FOR OTHER AUTHORITIES',\n",
       "       'UNAUTHORIZED USE OF A VEHICLE', 'GAMBLING',\n",
       "       'OTHER STATE LAWS (NON PENAL LA', 'MURDER & NON-NEGL. MANSLAUGHTE',\n",
       "       'GRAND LARCENY OF MOTOR VEHICLE', 'ADMINISTRATIVE CODE',\n",
       "       'ENDAN WELFARE INCOMP', 'INTOXICATED/IMPAIRED DRIVING',\n",
       "       'LOITERING FOR DRUG PURPOSES', 'ALCOHOLIC BEVERAGE CONTROL LAW',\n",
       "       'KIDNAPPING & RELATED OFFENSES', 'FRAUDULENT ACCOSTING',\n",
       "       'OFFENSES RELATED TO CHILDREN', 'MOVING INFRACTIONS', 'ESCAPE 3',\n",
       "       'HARRASSMENT 2', 'OFFENSES AGAINST PUBLIC SAFETY',\n",
       "       'AGRICULTURE & MRKTS LAW-UNCLASSIFIED', 'JOSTLING',\n",
       "       'MURDER & NON-NEGL. MANSLAUGHTER', 'CHILD ABANDONMENT/NON SUPPORT',\n",
       "       'NEW YORK CITY HEALTH CODE',\n",
       "       'CRIMINAL MISCHIEF & RELATED OFFENSES',\n",
       "       'LOITERING/GAMBLING (CARDS, DIC', 'OBSTRUCTION OF PUBLIC SERVANTS',\n",
       "       'ANTICIPATORY OFFENSES', 'PARKING OFFENSES',\n",
       "       'KIDNAPPING, COERCION', 'HOMICIDE-NEGLIGENT,UNCLASSIFIE',\n",
       "       'ADMINISTRATIVE CODES', 'KIDNAPPING', 'MONEY LAUNDERING',\n",
       "       'DISRUPTION OF A RELIGIOUS SERV', 'HOMICIDE-NEGLIGENT-VEHICLE',\n",
       "       'NYS LAWS-UNCLASSIFIED VIOLATION', 'HARASSMENT', 'LOITERING',\n",
       "       'HOMICIDE', 'UNAUTHORIZED USE OF A VEHICLE 3 (UUV)',\n",
       "       'HOMICIDE-NEGLIGENT,UNCLASSIFIED', 'ABORTION',\n",
       "       'CHILD ABANDONMENT/NON SUPPORT 1',\n",
       "       'DISRUPTION OF A RELIGIOUS SERVICE', 'GAMBLING OFFENSES',\n",
       "       'LOITERING/GAMBLING (CARDS, DICE, ETC)',\n",
       "       'UNLAWFUL POSS. WEAP. ON SCHOOL GROUNDS',\n",
       "       'OFFENSES AGAINST PUBLIC ORDER',\n",
       "       'OFFENSES AGAINST SERVICE ANIMALS', 'OTHER PUBLIC SAFETY OFFENSES',\n",
       "       'UNDER THE INFLUENCE, DRUGS', 'FORTUNE TELLING',\n",
       "       'LOITERING,BEGGING'], dtype=object)"
      ]
     },
     "execution_count": 8,
     "metadata": {},
     "output_type": "execute_result"
    }
   ],
   "source": [
    "crime['ofns_desc'].unique()"
   ]
  },
  {
   "cell_type": "code",
   "execution_count": 14,
   "metadata": {},
   "outputs": [],
   "source": [
    "#Classify crimes as violent or non-violent\n",
    "crime['violent_crime'] = np.full(len(crime), False)\n",
    "crime['violent_crime'] = np.where(crime['ofns_desc'].isin([\n",
    "    'SEX CRIMES', 'RAPE', 'ASSAULT 3 & RELATED OFFENSES', 'FELONY ASSAULT',\n",
    "    'ROBBERY', 'FORCIBLE TOUCHING', 'TERRORISM', 'SEX OFFENSES', 'ASSAULT',\n",
    "    'MURDER & NON-NEGL. MANSLAUGHTE', 'KIDNAPPING & RELATED OFFENSES', \n",
    "    'MURDER & NON-NEGL. MANSLAUGHTER', 'KIDNAPPING, COERCION', \n",
    "    'HOMICIDE-NEGLIGENT,UNCLASSIFIE', 'KIDNAPPING', 'HOMICIDE-NEGLIGENT-VEHICLE',\n",
    "    'HOMICIDE', 'HOMICIDE-NEGLIGENT,UNCLASSIFIED'\n",
    "]), True, False)"
   ]
  },
  {
   "cell_type": "code",
   "execution_count": 23,
   "metadata": {},
   "outputs": [],
   "source": [
    "# Create a new dataframe with the three columns.\n",
    "crime_cleaned = pd.DataFrame(columns=['borough', 'violent_crime_count', 'nonviolent_crime_count'])\n",
    "\n",
    "# Iterate over the unique boroughs in the crime dataframe.\n",
    "for borough in crime['borough'].unique():\n",
    "    # Create a new DataFrame with a single row for the borough.\n",
    "    borough_df = pd.DataFrame({'borough': borough}, index=[0])\n",
    "    \n",
    "    # Count the number of violent and nonviolent crimes in the borough.\n",
    "    violent_crime_count = crime['violent_crime'].loc[(crime['borough'] == borough) & crime['violent_crime'] == True].sum()\n",
    "    nonviolent_crime_count = crime['violent_crime'].loc[(crime['borough'] == borough) & crime['violent_crime'] == False].sum()\n",
    "\n",
    "    # Add the crime counts to the borough DataFrame.\n",
    "    borough_df['violent_crime_count'] = violent_crime_count\n",
    "    borough_df['nonviolent_crime_count'] = nonviolent_crime_count\n",
    "\n",
    "    # Append the borough DataFrame to the cleaned crime DataFrame.\n",
    "    crime_cleaned = pd.concat([crime_cleaned, borough_df], ignore_index=True)"
   ]
  },
  {
   "cell_type": "code",
   "execution_count": 24,
   "metadata": {},
   "outputs": [
    {
     "name": "stdout",
     "output_type": "stream",
     "text": [
      "         borough violent_crime_count nonviolent_crime_count\n",
      "0      Manhattan              136012                 572524\n",
      "1       Brooklyn              214468                 494068\n",
      "2          Bronx              181741                 526795\n",
      "3         Queens              149613                 558923\n",
      "4  Staten Island               26702                 681834\n"
     ]
    }
   ],
   "source": [
    "print(crime_cleaned)"
   ]
  },
  {
   "cell_type": "code",
   "execution_count": 25,
   "metadata": {},
   "outputs": [],
   "source": [
    "crime_cleaned.to_csv(\"crime_cleaned.csv\")"
   ]
  },
  {
   "cell_type": "code",
   "execution_count": null,
   "metadata": {},
   "outputs": [],
   "source": []
  }
 ],
 "metadata": {
  "kernelspec": {
   "display_name": "Python 3 (ipykernel)",
   "language": "python",
   "name": "python3"
  },
  "language_info": {
   "codemirror_mode": {
    "name": "ipython",
    "version": 3
   },
   "file_extension": ".py",
   "mimetype": "text/x-python",
   "name": "python",
   "nbconvert_exporter": "python",
   "pygments_lexer": "ipython3",
   "version": "3.11.6"
  }
 },
 "nbformat": 4,
 "nbformat_minor": 4
}
