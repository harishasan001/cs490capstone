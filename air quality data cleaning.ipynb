{
 "cells": [
  {
   "cell_type": "code",
   "execution_count": 15,
   "id": "d11f2df7-9ba8-4b2f-9d87-da9a68db625d",
   "metadata": {},
   "outputs": [],
   "source": [
    "import pandas as pd\n",
    "import numpy as np\n",
    "import matplotlib.pyplot as plt"
   ]
  },
  {
   "cell_type": "code",
   "execution_count": 14,
   "id": "8069dc6d-01b3-4dc7-a911-15ec18d35119",
   "metadata": {},
   "outputs": [
    {
     "name": "stdout",
     "output_type": "stream",
     "text": [
      "       Unique ID  Indicator ID                  Name Measure Measure Info  \\\n",
      "0         216498           386            Ozone (O3)    Mean          ppb   \n",
      "1         216499           386            Ozone (O3)    Mean          ppb   \n",
      "2         219969           386            Ozone (O3)    Mean          ppb   \n",
      "3         219970           386            Ozone (O3)    Mean          ppb   \n",
      "4         164876           383  Sulfur Dioxide (SO2)    Mean          ppb   \n",
      "...          ...           ...                   ...     ...          ...   \n",
      "16117     671118           386            Ozone (O3)    Mean          ppb   \n",
      "16118     671119           386            Ozone (O3)    Mean          ppb   \n",
      "16119     671120           386            Ozone (O3)    Mean          ppb   \n",
      "16120     671121           386            Ozone (O3)    Mean          ppb   \n",
      "16121     671122           386            Ozone (O3)    Mean          ppb   \n",
      "\n",
      "      Geo Type Name  Geo Join ID                          Geo Place Name  \\\n",
      "0                CD          313                     Coney Island (CD13)   \n",
      "1                CD          313                     Coney Island (CD13)   \n",
      "2           Borough            1                                   Bronx   \n",
      "3           Borough            1                                   Bronx   \n",
      "4                CD          211        Morris Park and Bronxdale (CD11)   \n",
      "...             ...          ...                                     ...   \n",
      "16117            CD          306    Park Slope and Carroll Gardens (CD6)   \n",
      "16118            CD          305   East New York and Starrett City (CD5)   \n",
      "16119            CD          304                          Bushwick (CD4)   \n",
      "16120            CD          303                Bedford Stuyvesant (CD3)   \n",
      "16121            CD          302  Fort Greene and Brooklyn Heights (CD2)   \n",
      "\n",
      "          Time Period  Start_Date  Data Value  Message  \n",
      "0         Summer 2013  06/01/2013       34.64      NaN  \n",
      "1         Summer 2014  06/01/2014       33.22      NaN  \n",
      "2         Summer 2013  06/01/2013       31.25      NaN  \n",
      "3         Summer 2014  06/01/2014       31.15      NaN  \n",
      "4      Winter 2008-09  12/01/2008        5.89      NaN  \n",
      "...               ...         ...         ...      ...  \n",
      "16117     Summer 2020  06/01/2020       28.70      NaN  \n",
      "16118     Summer 2020  06/01/2020       29.56      NaN  \n",
      "16119     Summer 2020  06/01/2020       29.65      NaN  \n",
      "16120     Summer 2020  06/01/2020       29.28      NaN  \n",
      "16121     Summer 2020  06/01/2020       28.93      NaN  \n",
      "\n",
      "[16122 rows x 12 columns]\n"
     ]
    }
   ],
   "source": [
    "air_quality = pd.read_csv(\"NYC_Air_Quality.csv\")\n",
    "print(air_quality)"
   ]
  },
  {
   "cell_type": "code",
   "execution_count": 9,
   "id": "aad408e4-ac85-4171-9e3b-d98087c52661",
   "metadata": {},
   "outputs": [],
   "source": [
    "air_quality = air_quality[\n",
    "    (air_quality['Name'] == 'Fine Particulate Matter (PM2.5)')\n",
    "    & (air_quality['Geo Place Name'].isin(['Brooklyn', 'Manhattan', 'Queens', 'Staten Island', 'Bronx']))\n",
    "    & (pd.to_datetime(air_quality['Start_Date']) >= pd.to_datetime('1/01/2016'))\n",
    "]"
   ]
  },
  {
   "cell_type": "code",
   "execution_count": 10,
   "id": "60906430-0da4-47eb-8b10-b02a315a7c45",
   "metadata": {
    "scrolled": true
   },
   "outputs": [
    {
     "name": "stdout",
     "output_type": "stream",
     "text": [
      "       Unique ID  Indicator ID                             Name Measure  \\\n",
      "10228     410721           365  Fine Particulate Matter (PM2.5)    Mean   \n",
      "10231     410724           365  Fine Particulate Matter (PM2.5)    Mean   \n",
      "10234     410727           365  Fine Particulate Matter (PM2.5)    Mean   \n",
      "10237     410730           365  Fine Particulate Matter (PM2.5)    Mean   \n",
      "10240     410733           365  Fine Particulate Matter (PM2.5)    Mean   \n",
      "...          ...           ...                              ...     ...   \n",
      "15848     669849           365  Fine Particulate Matter (PM2.5)    Mean   \n",
      "15849     669850           365  Fine Particulate Matter (PM2.5)    Mean   \n",
      "15850     669851           365  Fine Particulate Matter (PM2.5)    Mean   \n",
      "15851     669852           365  Fine Particulate Matter (PM2.5)    Mean   \n",
      "15852     669853           365  Fine Particulate Matter (PM2.5)    Mean   \n",
      "\n",
      "              Measure Info Geo Type Name  Geo Join ID Geo Place Name  \\\n",
      "10228  mcg per cubic meter       Borough            1          Bronx   \n",
      "10231  mcg per cubic meter       Borough            2       Brooklyn   \n",
      "10234  mcg per cubic meter       Borough            3      Manhattan   \n",
      "10237  mcg per cubic meter       Borough            4         Queens   \n",
      "10240  mcg per cubic meter       Borough            5  Staten Island   \n",
      "...                    ...           ...          ...            ...   \n",
      "15848  mcg per cubic meter       Borough            2       Brooklyn   \n",
      "15849  mcg per cubic meter       Borough            2       Brooklyn   \n",
      "15850  mcg per cubic meter       Borough            1          Bronx   \n",
      "15851  mcg per cubic meter       Borough            1          Bronx   \n",
      "15852  mcg per cubic meter       Borough            1          Bronx   \n",
      "\n",
      "               Time Period  Start_Date  Data Value  Message  \n",
      "10228          Summer 2016  05/31/2016        8.29      NaN  \n",
      "10231          Summer 2016  05/31/2016        8.32      NaN  \n",
      "10234          Summer 2016  05/31/2016        9.49      NaN  \n",
      "10237          Summer 2016  05/31/2016        7.75      NaN  \n",
      "10240          Summer 2016  05/31/2016        7.80      NaN  \n",
      "...                    ...         ...         ...      ...  \n",
      "15848       Winter 2019-20  12/01/2019        7.62      NaN  \n",
      "15849  Annual Average 2020  01/01/2020        6.12      NaN  \n",
      "15850          Summer 2020  06/01/2020        7.24      NaN  \n",
      "15851       Winter 2019-20  12/01/2019        7.02      NaN  \n",
      "15852  Annual Average 2020  01/01/2020        6.11      NaN  \n",
      "\n",
      "[65 rows x 12 columns]\n"
     ]
    }
   ],
   "source": [
    "print(air_quality)"
   ]
  },
  {
   "cell_type": "code",
   "execution_count": 11,
   "id": "4ccd5c0b-5eb2-4cdf-9642-5214644e6113",
   "metadata": {},
   "outputs": [],
   "source": [
    "# Calculate the average PM2.5 concentration for each borough\n",
    "borough_averages = air_quality.groupby('Geo Place Name')['Data Value'].mean()\n",
    "\n",
    "# Create a new cleaned dataframe with the borough and average PM2.5 columns\n",
    "air_quality_cleaned = pd.DataFrame({\n",
    "    'borough': borough_averages.index.to_list(),\n",
    "    'average_pm2.5': borough_averages.to_list()\n",
    "})"
   ]
  },
  {
   "cell_type": "code",
   "execution_count": 12,
   "id": "80c2d97a-b11e-47dd-a386-e99794c1e32b",
   "metadata": {},
   "outputs": [
    {
     "name": "stdout",
     "output_type": "stream",
     "text": [
      "         borough  average_pm2.5\n",
      "0          Bronx       7.750769\n",
      "1       Brooklyn       7.678462\n",
      "2      Manhattan       8.966923\n",
      "3         Queens       7.421538\n",
      "4  Staten Island       6.931538\n"
     ]
    }
   ],
   "source": [
    "print(air_quality_cleaned)"
   ]
  },
  {
   "cell_type": "code",
   "execution_count": 13,
   "id": "ff8a35fd-0339-4648-9258-bbdd99ea9ddb",
   "metadata": {},
   "outputs": [],
   "source": [
    "air_quality_cleaned.to_csv(\"air_quality_cleaned.csv\")"
   ]
  },
  {
   "cell_type": "code",
   "execution_count": 19,
   "id": "17e7226b-b58b-4161-b52f-643e2c0a28ef",
   "metadata": {},
   "outputs": [
    {
     "data": {
      "image/png": "[encoded data removed]",
      "text/plain": [
       "<Figure size 640x480 with 1 Axes>"
      ]
     },
     "metadata": {},
     "output_type": "display_data"
    }
   ],
   "source": [
    "colors = plt.cm.viridis(np.linspace(0, 1, len(air_quality_cleaned)))\n",
    "\n",
    "plt.bar(air_quality_cleaned['borough'], air_quality_cleaned['average_pm2.5'], color=colors)\n",
    "\n",
    "# Set the chart title and labels\n",
    "plt.title('Average PM2.5 by Borough in New York City')\n",
    "plt.xlabel('Borough')\n",
    "plt.ylabel('Average PM2.5 (μg/m³)')\n",
    "\n",
    "# Show the chart\n",
    "plt.show()"
   ]
  },
  {
   "cell_type": "code",
   "execution_count": null,
   "id": "64e00945-e119-4775-a2bf-228a5258124b",
   "metadata": {},
   "outputs": [],
   "source": []
  }
 ],
 "metadata": {
  "kernelspec": {
   "display_name": "Python 3 (ipykernel)",
   "language": "python",
   "name": "python3"
  },
  "language_info": {
   "codemirror_mode": {
    "name": "ipython",
    "version": 3
   },
   "file_extension": ".py",
   "mimetype": "text/x-python",
   "name": "python",
   "nbconvert_exporter": "python",
   "pygments_lexer": "ipython3",
   "version": "3.11.6"
  }
 },
 "nbformat": 4,
 "nbformat_minor": 5
}
